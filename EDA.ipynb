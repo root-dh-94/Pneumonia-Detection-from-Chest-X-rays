{
 "cells": [
  {
   "cell_type": "code",
   "execution_count": null,
   "metadata": {},
   "outputs": [],
   "source": [
    "import numpy as np # linear algebra\n",
    "import pandas as pd # data processing, CSV file I/O (e.g. pd.read_csv)\n",
    "import os\n",
    "from glob import glob\n",
    "%matplotlib inline\n",
    "import matplotlib.pyplot as plt\n",
    "import seaborn as sns\n",
    "from itertools import chain\n",
    "from skimage import io\n",
    "import scipy.stats"
   ]
  },
  {
   "cell_type": "code",
   "execution_count": null,
   "metadata": {},
   "outputs": [],
   "source": [
    "## Below is some helper code to read all of your full image filepaths into a dataframe for easier manipulation\n",
    "#Load NIH data\n",
    "all_xray_df = pd.read_csv('/data/Data_Entry_2017.csv')\n",
    "all_xray_df.head(5)\n",
    "\n",
    "# Load 'sample_labels.csv' data for pixel level assessments\n",
    "sample_df = pd.read_csv('sample_labels.csv')\n",
    "sample_df.head(5)"
   ]
  },
  {
   "cell_type": "markdown",
   "metadata": {},
   "source": [
    "EDA is open-ended, and it is up to you to decide how to look at different ways to slice and dice your data. A good starting point is to look at the requirements for the FDA documentation in the final part of this project to guide (some) of the analyses you do. \n",
    "\n",
    "This EDA should also help to inform you of how pneumonia looks in the wild. E.g. what other types of diseases it's commonly found with, how often it is found, what ages it affects, etc. \n",
    "\n",
    "Note that this NIH dataset was not specifically acquired for pneumonia. So, while this is a representation of 'pneumonia in the wild,' the prevalence of pneumonia may be different if you were to take only chest x-rays that were acquired in an ER setting with suspicion of pneumonia. "
   ]
  },
  {
   "cell_type": "markdown",
   "metadata": {},
   "source": [
    "Also, **describe your findings and how will you set up the model training based on the findings.**"
   ]
  },
  {
   "cell_type": "code",
   "execution_count": null,
   "metadata": {},
   "outputs": [],
   "source": [
    "#function to plot gender demographics\n",
    "def gender(df):\n",
    "    df['Patient Gender'].value_counts().plot(kind='bar')\n",
    "    plt.xlabel('Gender')\n",
    "    plt.ylabel('Number of People')\n",
    "    plt.title('Gender Distribution in Dataset')\n",
    "    \n",
    "    return df['Patient Gender'].value_counts()"
   ]
  },
  {
   "cell_type": "code",
   "execution_count": null,
   "metadata": {},
   "outputs": [],
   "source": [
    "#invoking gender distribution fnc\n",
    "gender_distribution = gender(all_xray_df)\n",
    "gender_distribution\n"
   ]
  },
  {
   "cell_type": "code",
   "execution_count": null,
   "metadata": {},
   "outputs": [],
   "source": [
    "#There is a very slight imbalance of genders with 63340 male and 48780 female"
   ]
  },
  {
   "cell_type": "code",
   "execution_count": null,
   "metadata": {},
   "outputs": [],
   "source": [
    "#There seem to be some unrealistic patient ages\n",
    "all_xray_df[all_xray_df['Patient Age']>100]['Patient Age']"
   ]
  },
  {
   "cell_type": "code",
   "execution_count": null,
   "metadata": {},
   "outputs": [],
   "source": [
    "#set these values to NaN\n",
    "all_xray_df.replace(all_xray_df[all_xray_df['Patient Age']>100]['Patient Age'].values,np.nan, inplace = True)"
   ]
  },
  {
   "cell_type": "code",
   "execution_count": null,
   "metadata": {},
   "outputs": [],
   "source": [
    "#confirm that no unrealistic values remain\n",
    "all_xray_df[all_xray_df['Patient Age']>100]['Patient Age']"
   ]
  },
  {
   "cell_type": "code",
   "execution_count": null,
   "metadata": {},
   "outputs": [],
   "source": [
    "#defining age distribution fnc\n",
    "def age(df):\n",
    "    plt.hist(df['Patient Age'], bins = 10,)\n",
    "    plt.xlabel('age')\n",
    "    plt.ylabel('Number of People')\n",
    "    plt.title('Age Distribution')"
   ]
  },
  {
   "cell_type": "code",
   "execution_count": null,
   "metadata": {},
   "outputs": [],
   "source": [
    "#invoking age distributon fnc\n",
    "age(all_xray_df)"
   ]
  },
  {
   "cell_type": "code",
   "execution_count": null,
   "metadata": {},
   "outputs": [],
   "source": [
    "#Dataset contains samples of ages ranging from 2 all the way to almost 100, with a a majority around the 50-60 yr old age"
   ]
  },
  {
   "cell_type": "code",
   "execution_count": null,
   "metadata": {},
   "outputs": [],
   "source": [
    "# def fnc to show position distribution\n",
    "def image_pos(df):\n",
    "    df['View Position'].value_counts().plot(kind='bar')\n",
    "    plt.xlabel('Image Position')\n",
    "    plt.ylabel('Number of People')\n",
    "    plt.title('Image Position Distribution')\n",
    "    \n",
    "    return df['View Position'].value_counts()"
   ]
  },
  {
   "cell_type": "code",
   "execution_count": null,
   "metadata": {},
   "outputs": [],
   "source": [
    "#invoking position distribution fnc\n",
    "image_position_distribution = image_pos(all_xray_df)\n",
    "image_position_distribution"
   ]
  },
  {
   "cell_type": "code",
   "execution_count": null,
   "metadata": {},
   "outputs": [],
   "source": [
    "#Dataset contains both PA and AP image position"
   ]
  },
  {
   "cell_type": "code",
   "execution_count": null,
   "metadata": {},
   "outputs": [],
   "source": [
    "#split the finding labels into individual columns\n",
    "def split_labels(df):\n",
    "    labels = np.unique(list(chain(*df['Finding Labels'].map(lambda x: x.split('|')).tolist())))\n",
    "    for i in labels:\n",
    "        df[i] = df['Finding Labels'].map(lambda y: 1.0 if i in y else 0)"
   ]
  },
  {
   "cell_type": "code",
   "execution_count": null,
   "metadata": {},
   "outputs": [],
   "source": [
    "#invoke function to generate columns for individual diseases\n",
    "split_labels(all_xray_df)"
   ]
  },
  {
   "cell_type": "code",
   "execution_count": null,
   "metadata": {},
   "outputs": [],
   "source": [
    "all_xray_df.shape"
   ]
  }
 ],
 "metadata": {
  "kernelspec": {
   "display_name": "Python 3",
   "language": "python",
   "name": "python3"
  },
  "language_info": {
   "codemirror_mode": {
    "name": "ipython",
    "version": 3
   },
   "file_extension": ".py",
   "mimetype": "text/x-python",
   "name": "python",
   "nbconvert_exporter": "python",
   "pygments_lexer": "ipython3",
   "version": "3.7.6"
  }
 },
 "nbformat": 4,
 "nbformat_minor": 2
}
