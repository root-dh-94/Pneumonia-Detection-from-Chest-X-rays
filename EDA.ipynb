{
 "cells": [
  {
   "cell_type": "code",
   "execution_count": null,
   "metadata": {},
   "outputs": [],
   "source": [
    "import numpy as np # linear algebra\n",
    "import pandas as pd # data processing, CSV file I/O (e.g. pd.read_csv)\n",
    "import os\n",
    "from glob import glob\n",
    "%matplotlib inline\n",
    "import matplotlib.pyplot as plt\n",
    "import seaborn as sns\n",
    "from itertools import chain\n",
    "from skimage import io\n",
    "import scipy.stats"
   ]
  },
  {
   "cell_type": "code",
   "execution_count": null,
   "metadata": {},
   "outputs": [],
   "source": [
    "## Below is some helper code to read all of your full image filepaths into a dataframe for easier manipulation\n",
    "#Load NIH data\n",
    "all_xray_df = pd.read_csv('/data/Data_Entry_2017.csv')\n",
    "all_xray_df.head(5)\n",
    "\n",
    "# Load 'sample_labels.csv' data for pixel level assessments\n",
    "sample_df = pd.read_csv('sample_labels.csv')\n",
    "sample_df.head(5)"
   ]
  },
  {
   "cell_type": "markdown",
   "metadata": {},
   "source": [
    "EDA is open-ended, and it is up to you to decide how to look at different ways to slice and dice your data. A good starting point is to look at the requirements for the FDA documentation in the final part of this project to guide (some) of the analyses you do. \n",
    "\n",
    "This EDA should also help to inform you of how pneumonia looks in the wild. E.g. what other types of diseases it's commonly found with, how often it is found, what ages it affects, etc. \n",
    "\n",
    "Note that this NIH dataset was not specifically acquired for pneumonia. So, while this is a representation of 'pneumonia in the wild,' the prevalence of pneumonia may be different if you were to take only chest x-rays that were acquired in an ER setting with suspicion of pneumonia. "
   ]
  },
  {
   "cell_type": "markdown",
   "metadata": {},
   "source": [
    "Also, **describe your findings and how will you set up the model training based on the findings.**"
   ]
  },
  {
   "cell_type": "code",
   "execution_count": null,
   "metadata": {},
   "outputs": [],
   "source": [
    "#function to plot gender demographics\n",
    "def gender(df):\n",
    "    df['Patient Gender'].value_counts().plot(kind='bar')\n",
    "    plt.xlabel('Gender')\n",
    "    plt.ylabel('Number of People')\n",
    "    plt.title('Gender Distribution in Dataset')\n",
    "    \n",
    "    return df['Patient Gender'].value_counts()"
   ]
  },
  {
   "cell_type": "code",
   "execution_count": null,
   "metadata": {},
   "outputs": [],
   "source": [
    "#invoking gender distribution fnc\n",
    "gender_distribution = gender(all_xray_df)\n",
    "gender_distribution\n"
   ]
  },
  {
   "cell_type": "code",
   "execution_count": null,
   "metadata": {},
   "outputs": [],
   "source": [
    "#There is a very slight imbalance of genders with 63340 male and 48780 female"
   ]
  },
  {
   "cell_type": "code",
   "execution_count": null,
   "metadata": {},
   "outputs": [],
   "source": [
    "#There seem to be some unrealistic patient ages\n",
    "all_xray_df[all_xray_df['Patient Age']>100]['Patient Age']"
   ]
  },
  {
   "cell_type": "code",
   "execution_count": null,
   "metadata": {},
   "outputs": [],
   "source": [
    "#set these values to NaN\n",
    "all_xray_df.replace(all_xray_df[all_xray_df['Patient Age']>100]['Patient Age'].values,np.nan, inplace = True)"
   ]
  },
  {
   "cell_type": "code",
   "execution_count": null,
   "metadata": {},
   "outputs": [],
   "source": [
    "#confirm that no unrealistic values remain\n",
    "all_xray_df[all_xray_df['Patient Age']>100]['Patient Age']"
   ]
  },
  {
   "cell_type": "code",
   "execution_count": null,
   "metadata": {},
   "outputs": [],
   "source": [
    "#defining age distribution fnc\n",
    "def age(df):\n",
    "    plt.hist(df['Patient Age'], bins = 10,)\n",
    "    plt.xlabel('age')\n",
    "    plt.ylabel('Number of People')\n",
    "    plt.title('Age Distribution')"
   ]
  },
  {
   "cell_type": "code",
   "execution_count": null,
   "metadata": {},
   "outputs": [],
   "source": [
    "#invoking age distributon fnc\n",
    "age(all_xray_df)"
   ]
  },
  {
   "cell_type": "code",
   "execution_count": null,
   "metadata": {},
   "outputs": [],
   "source": [
    "#Dataset contains samples of ages ranging from 2 all the way to almost 100, with a a majority around the 50-60 yr old age"
   ]
  },
  {
   "cell_type": "code",
   "execution_count": null,
   "metadata": {},
   "outputs": [],
   "source": [
    "# def fnc to show position distribution\n",
    "def image_pos(df):\n",
    "    df['View Position'].value_counts().plot(kind='bar')\n",
    "    plt.xlabel('Image Position')\n",
    "    plt.ylabel('Number of People')\n",
    "    plt.title('Image Position Distribution')\n",
    "    \n",
    "    return df['View Position'].value_counts()"
   ]
  },
  {
   "cell_type": "code",
   "execution_count": null,
   "metadata": {},
   "outputs": [],
   "source": [
    "#invoking position distribution fnc\n",
    "image_position_distribution = image_pos(all_xray_df)\n",
    "image_position_distribution"
   ]
  },
  {
   "cell_type": "code",
   "execution_count": null,
   "metadata": {},
   "outputs": [],
   "source": [
    "#Dataset contains both PA and AP image position"
   ]
  },
  {
   "cell_type": "code",
   "execution_count": null,
   "metadata": {},
   "outputs": [],
   "source": [
    "#split the finding labels into individual columns\n",
    "def split_labels(df):\n",
    "    labels = np.unique(list(chain(*df['Finding Labels'].map(lambda x: x.split('|')).tolist())))\n",
    "    for i in labels:\n",
    "        df[i] = df['Finding Labels'].map(lambda y: 1.0 if i in y else 0)"
   ]
  },
  {
   "cell_type": "code",
   "execution_count": null,
   "metadata": {},
   "outputs": [],
   "source": [
    "#invoke function to generate columns for individual diseases\n",
    "split_labels(all_xray_df)"
   ]
  },
  {
   "cell_type": "code",
   "execution_count": null,
   "metadata": {},
   "outputs": [],
   "source": [
    "all_xray_df.shape"
   ]
  },
  {
   "cell_type": "code",
   "execution_count": null,
   "metadata": {},
   "outputs": [],
   "source": [
    "#function plots distribution of +ve/-ve pneumonia cases. 1 is positive, 0 is negative\n",
    "def pneumonia_cases(df):\n",
    "    df['Pneumonia'].value_counts().plot(kind='bar')\n",
    "    plt.xlabel('Presence of Pneumonia(0 is negative 1 is postive)')\n",
    "    plt.ylabel('Number of People')\n",
    "    plt.title('Presence of Pneumonia in the Dataset')\n",
    "    \n",
    "    return (df['Pneumonia'].value_counts()[0], df['Pneumonia'].value_counts()[1])"
   ]
  },
  {
   "cell_type": "code",
   "execution_count": null,
   "metadata": {},
   "outputs": [],
   "source": [
    "#invoke function to calculate no. of pneumonia cases\n",
    "negative_pneumonia, positive_pneumonia = pneumonia_cases(all_xray_df)"
   ]
  },
  {
   "cell_type": "code",
   "execution_count": null,
   "metadata": {},
   "outputs": [],
   "source": [
    "#Dataset has 1431 cases of pneumonia\n",
    "positive_pneumonia"
   ]
  },
  {
   "cell_type": "code",
   "execution_count": null,
   "metadata": {},
   "outputs": [],
   "source": [
    "#ratio of +ve/-ve cases is 1.3%\n",
    "ratio_pneumonia_cases = positive_pneumonia/negative_pneumonia*100\n",
    "ratio_pneumonia_cases"
   ]
  },
  {
   "cell_type": "code",
   "execution_count": null,
   "metadata": {},
   "outputs": [],
   "source": [
    "#getting labels of different possible diseases\n",
    "labels = np.unique(list(chain(*all_xray_df['Finding Labels'].map(lambda x: x.split('|')).tolist())))\n",
    "labels = labels.tolist()\n",
    "\n",
    "labels"
   ]
  },
  {
   "cell_type": "code",
   "execution_count": null,
   "metadata": {},
   "outputs": [],
   "source": [
    "all_xray_df[labels].sum().plot(kind = 'bar')\n",
    "plt.xlabel('Diseases or No finding')\n",
    "plt.ylabel('Number of People')\n",
    "plt.title('Distribution of Diseases in the Dataset')\n",
    "plt.show()"
   ]
  },
  {
   "cell_type": "code",
   "execution_count": null,
   "metadata": {},
   "outputs": [],
   "source": [
    "# No Finding is by far the most common diagnosis, followed my infiltration and effusion"
   ]
  },
  {
   "cell_type": "code",
   "execution_count": null,
   "metadata": {},
   "outputs": [],
   "source": [
    "#determine the distribution of diseases comorbid with Pneumonia. Plotting the top 30 combinations\n",
    "all_xray_df[all_xray_df.Pneumonia == 1]['Finding Labels'].value_counts()[0:30].plot(kind = 'bar')\n",
    "plt.xlabel('Diseases Comorbid with Pneumonia')\n",
    "plt.ylabel('Number of People')\n",
    "plt.title('Distribution of Diseases comorbid with Pneumonia')\n",
    "disease_conjunction_pneumonia = all_xray_df[all_xray_df.Pneumonia == 1]['Finding Labels'].value_counts()"
   ]
  },
  {
   "cell_type": "code",
   "execution_count": null,
   "metadata": {},
   "outputs": [],
   "source": [
    "#Most common comorbodies are 'infiltration', 'edema', 'atelectasis', 'effusion', 'consolidation'"
   ]
  },
  {
   "cell_type": "code",
   "execution_count": null,
   "metadata": {},
   "outputs": [],
   "source": [
    "#distribution of gender with positive pneumonia cases\n",
    "pneumonia_gender_distribution = gender(all_xray_df[all_xray_df.Pneumonia == 1])"
   ]
  },
  {
   "cell_type": "code",
   "execution_count": null,
   "metadata": {},
   "outputs": [],
   "source": [
    "#Gender distribution amongst pneumonia patients is similar to the main dataset"
   ]
  },
  {
   "cell_type": "code",
   "execution_count": null,
   "metadata": {},
   "outputs": [],
   "source": [
    "#age distribution with positive pneumonia cases\n",
    "age(all_xray_df[all_xray_df.Pneumonia == 1])"
   ]
  },
  {
   "cell_type": "code",
   "execution_count": null,
   "metadata": {},
   "outputs": [],
   "source": [
    "#Age distribution amongst pneumonia patients is similar to the main dataset, with  majority of patients being in the 50-60 age range"
   ]
  },
  {
   "cell_type": "code",
   "execution_count": null,
   "metadata": {},
   "outputs": [],
   "source": [
    "#position distribution for +ve pneumonia cases\n",
    "pneumonia_position_distribution = image_pos(all_xray_df[all_xray_df.Pneumonia == 1])\n",
    "pneumonia_position_distribution"
   ]
  },
  {
   "cell_type": "code",
   "execution_count": null,
   "metadata": {},
   "outputs": [],
   "source": [
    "#getting labels of different possible diseases\n",
    "labels = np.unique(list(chain(*all_xray_df['Finding Labels'].map(lambda x: x.split('|')).tolist())))\n",
    "labels = labels.tolist()\n",
    "labels.remove('No Finding')\n",
    "labels"
   ]
  },
  {
   "cell_type": "code",
   "execution_count": null,
   "metadata": {},
   "outputs": [],
   "source": [
    "#fnc to determine number of diseases per person\n",
    "def diseases_per_person(df,labels):\n",
    "    total_disease = df[labels].sum(axis = 1)\n",
    "    avg_disease = np.mean(total_disease)\n",
    "    return total_disease, avg_disease\n"
   ]
  },
  {
   "cell_type": "code",
   "execution_count": null,
   "metadata": {},
   "outputs": [],
   "source": [
    "#number of diseases for each patient and avg number of diseases per patient\n",
    "num_disease_person, avg_disease_person = diseases_per_person(all_xray_df, labels)\n",
    "print(avg_disease_person)"
   ]
  },
  {
   "cell_type": "code",
   "execution_count": null,
   "metadata": {},
   "outputs": [],
   "source": [
    "#An average of 0.72 diseased diagnosed per person in the dataset"
   ]
  },
  {
   "cell_type": "code",
   "execution_count": null,
   "metadata": {},
   "outputs": [],
   "source": [
    "#INTENSITY VALUE ANALYSIS\n",
    "#INTENSITY VALUE ANALYSIS\n",
    "#INTENSITY VALUE ANALYSIS"
   ]
  },
  {
   "cell_type": "code",
   "execution_count": null,
   "metadata": {},
   "outputs": [],
   "source": [
    "#split the finding labels into individual columns for intenisty val dataset\n",
    "split_labels(sample_df)"
   ]
  },
  {
   "cell_type": "code",
   "execution_count": null,
   "metadata": {},
   "outputs": [],
   "source": [
    "sample_df.shape"
   ]
  },
  {
   "cell_type": "code",
   "execution_count": null,
   "metadata": {},
   "outputs": [],
   "source": [
    "#Get image paths for all images in sample_df\n",
    "image_path = [glob(f'/data/images*/*/{i}')[0] for i in sample_df['Image Index'].values]"
   ]
  },
  {
   "cell_type": "code",
   "execution_count": null,
   "metadata": {},
   "outputs": [],
   "source": [
    "#displaying first 20 imgs in the sample set\n",
    "fig, m_axs = plt.subplots(5,4, figsize = (16, 16))\n",
    "m_axs = m_axs.flatten()\n",
    "imgs = image_path\n",
    "\n",
    "\n",
    "for img, ax in zip(imgs, m_axs):\n",
    "    img = io.imread(img)\n",
    "    ax.imshow(img,cmap='gray')"
   ]
  },
  {
   "cell_type": "code",
   "execution_count": null,
   "metadata": {},
   "outputs": [],
   "source": [
    "#display 20 imgs that have pneumonia\n",
    "fig, m_axs = plt.subplots(5,4, figsize = (16, 16))\n",
    "m_axs = m_axs.flatten()\n",
    "pneumonia_imgs = sample_df[sample_df.Pneumonia==1]['Image Index']\n",
    "pneumonia_image_path = [glob(f'/data/images*/*/{i}')[0] for i in pneumonia_imgs]\n",
    "\n",
    "for img, ax in zip(pneumonia_image_path, m_axs):\n",
    "    img = io.imread(img)\n",
    "    ax.imshow(img,cmap='gray')"
   ]
  },
  {
   "cell_type": "code",
   "execution_count": null,
   "metadata": {},
   "outputs": [],
   "source": [
    "#display 20 imgs that have no finding\n",
    "fig, m_axs = plt.subplots(5,4, figsize = (16, 16))\n",
    "m_axs = m_axs.flatten()\n",
    "healthy_imgs = sample_df[sample_df['No Finding']==1]['Image Index']\n",
    "healthy_image_path = [glob(f'/data/images*/*/{i}')[0] for i in healthy_imgs]\n",
    "\n",
    "for img, ax in zip(healthy_image_path, m_axs):\n",
    "    img = io.imread(img)\n",
    "    ax.imshow(img,cmap='gray')"
   ]
  },
  {
   "cell_type": "code",
   "execution_count": null,
   "metadata": {},
   "outputs": [],
   "source": [
    "#Generating img paths for pneumonia and diseases mose frequently occuring with pneumonia but \n",
    "infiltration_imgs = sample_df[(sample_df.Infiltration==1) & (sample_df.Pneumonia==0)]['Image Index']\n",
    "infiltration_image_path = [glob(f'/data/images*/*/{i}')[0] for i in infiltration_imgs]\n",
    "\n",
    "edema_imgs = sample_df[(sample_df.Edema==1) & (sample_df.Pneumonia==0)]['Image Index']\n",
    "edema_image_path = [glob(f'/data/images*/*/{i}')[0] for i in edema_imgs]\n",
    "\n",
    "atelectasis_imgs = sample_df[(sample_df.Atelectasis==1) & (sample_df.Pneumonia==0)]['Image Index']\n",
    "atelectasis_image_path = [glob(f'/data/images*/*/{i}')[0] for i in atelectasis_imgs]\n",
    "\n",
    "effusion_imgs = sample_df[(sample_df.Effusion==1) & (sample_df.Pneumonia==0)]['Image Index']\n",
    "effusion_image_path = [glob(f'/data/images*/*/{i}')[0] for i in effusion_imgs]\n",
    "\n",
    "consolidation_imgs = sample_df[(sample_df.Consolidation==1) & (sample_df.Pneumonia==0)]['Image Index']\n",
    "consolidation_image_path = [glob(f'/data/images*/*/{i}')[0] for i in consolidation_imgs]"
   ]
  }
 ],
 "metadata": {
  "kernelspec": {
   "display_name": "Python 3",
   "language": "python",
   "name": "python3"
  },
  "language_info": {
   "codemirror_mode": {
    "name": "ipython",
    "version": 3
   },
   "file_extension": ".py",
   "mimetype": "text/x-python",
   "name": "python",
   "nbconvert_exporter": "python",
   "pygments_lexer": "ipython3",
   "version": "3.7.6"
  }
 },
 "nbformat": 4,
 "nbformat_minor": 2
}
